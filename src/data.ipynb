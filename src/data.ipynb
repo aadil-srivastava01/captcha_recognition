{
 "cells": [
  {
   "cell_type": "code",
   "execution_count": 5,
   "metadata": {},
   "outputs": [],
   "source": [
    "import os\n",
    "import glob\n",
    "import torch\n",
    "import numpy as np\n",
    "import matplotlib.pyplot as plt\n",
    "\n",
    "from sklearn import preprocessing, model_selection, metrics\n",
    "\n",
    "import config\n",
    "import dataset\n",
    "\n",
    "%matplotlib inline"
   ]
  },
  {
   "cell_type": "code",
   "execution_count": 3,
   "metadata": {},
   "outputs": [],
   "source": [
    "image_files = glob.glob(os.path.join(config.DATA_DIR, \"*.png\"))\n",
    "targets_orig = [x.split('/')[-1][:-4] for x in image_files]\n",
    "targets = [[c for c in x] for x in targets_orig]\n",
    "# Flattens the target\n",
    "targets_flat = [c for clist in targets for c in clist]\n",
    "\n",
    "lbl_enc = preprocessing.LabelEncoder()\n",
    "lbl_enc.fit(targets_flat)\n",
    "\n",
    "targets_enc = [lbl_enc.transform(x) for x in targets]\n",
    "targets_enc = np.array(targets_enc) + 1\n",
    "\n",
    "train_imgs, test_imgs, train_targets, test_targets, train_orig_targets, test_orig_targets = model_selection.train_test_split(\n",
    "    image_files, targets_enc, targets_orig, test_size=0.1, random_state=17)\n",
    "\n",
    "train_dataset = dataset.ClassficationDataset(\n",
    "    image_paths=train_imgs, targets=train_targets, resize=(config.IMAGE_HEIGHT, config.IMAGE_WIDTH))"
   ]
  },
  {
   "cell_type": "code",
   "execution_count": 4,
   "metadata": {},
   "outputs": [
    {
     "data": {
      "text/plain": [
       "{'images': tensor([[[1.1700, 1.1700, 1.1700,  ..., 2.1804, 2.1804, 2.1804],\n",
       "          [1.1700, 1.1700, 1.1700,  ..., 2.1804, 2.1804, 2.1804],\n",
       "          [1.1700, 1.1700, 1.1700,  ..., 2.1804, 2.1804, 2.1804],\n",
       "          ...,\n",
       "          [1.2214, 1.2214, 1.2214,  ..., 2.2318, 2.2318, 2.2318],\n",
       "          [1.2214, 1.2214, 1.2214,  ..., 2.2318, 2.2318, 2.2318],\n",
       "          [1.2214, 1.2214, 1.2214,  ..., 2.2318, 2.2318, 2.2318]],\n",
       " \n",
       "         [[1.3256, 1.3256, 1.3256,  ..., 2.3585, 2.3585, 2.3585],\n",
       "          [1.3256, 1.3256, 1.3256,  ..., 2.3585, 2.3585, 2.3585],\n",
       "          [1.3256, 1.3256, 1.3256,  ..., 2.3585, 2.3585, 2.3585],\n",
       "          ...,\n",
       "          [1.3782, 1.3782, 1.3782,  ..., 2.4111, 2.4111, 2.4111],\n",
       "          [1.3782, 1.3782, 1.3782,  ..., 2.4111, 2.4111, 2.4111],\n",
       "          [1.3782, 1.3782, 1.3782,  ..., 2.4111, 2.4111, 2.4111]],\n",
       " \n",
       "         [[1.5420, 1.5420, 1.5420,  ..., 2.5703, 2.5703, 2.5703],\n",
       "          [1.5420, 1.5420, 1.5420,  ..., 2.5703, 2.5703, 2.5703],\n",
       "          [1.5420, 1.5420, 1.5420,  ..., 2.5703, 2.5703, 2.5703],\n",
       "          ...,\n",
       "          [1.5942, 1.5942, 1.5942,  ..., 2.6226, 2.6226, 2.6226],\n",
       "          [1.5942, 1.5942, 1.5942,  ..., 2.6226, 2.6226, 2.6226],\n",
       "          [1.5942, 1.5942, 1.5942,  ..., 2.6226, 2.6226, 2.6226]]]),\n",
       " 'targets': tensor([13, 16, 15, 18, 15])}"
      ]
     },
     "execution_count": 4,
     "metadata": {},
     "output_type": "execute_result"
    }
   ],
   "source": [
    "train_dataset[0]"
   ]
  },
  {
   "cell_type": "code",
   "execution_count": 8,
   "metadata": {},
   "outputs": [
    {
     "data": {
      "text/plain": [
       "(3, 75, 300)"
      ]
     },
     "execution_count": 8,
     "metadata": {},
     "output_type": "execute_result"
    }
   ],
   "source": [
    "npimg = train_dataset[0][\"images\"].numpy()\n",
    "npimg.shape"
   ]
  },
  {
   "cell_type": "code",
   "execution_count": 10,
   "metadata": {},
   "outputs": [
    {
     "data": {
      "text/plain": [
       "(75, 300, 3)"
      ]
     },
     "execution_count": 10,
     "metadata": {},
     "output_type": "execute_result"
    }
   ],
   "source": [
    "npimg = np.transpose(npimg, (1, 2, 0))\n",
    "npimg.shape"
   ]
  },
  {
   "cell_type": "code",
   "execution_count": 11,
   "metadata": {},
   "outputs": [
    {
     "name": "stderr",
     "output_type": "stream",
     "text": [
      "Clipping input data to the valid range for imshow with RGB data ([0..1] for floats or [0..255] for integers).\n"
     ]
    },
    {
     "data": {
      "text/plain": [
       "<matplotlib.image.AxesImage at 0x7f0ab29b0a60>"
      ]
     },
     "execution_count": 11,
     "metadata": {},
     "output_type": "execute_result"
    },
    {
     "data": {
      "image/png": "[encoded data removed]",
      "text/plain": [
       "<Figure size 432x288 with 1 Axes>"
      ]
     },
     "metadata": {
      "needs_background": "light"
     },
     "output_type": "display_data"
    }
   ],
   "source": [
    "plt.imshow(npimg)"
   ]
  },
  {
   "cell_type": "code",
   "execution_count": null,
   "metadata": {},
   "outputs": [],
   "source": []
  }
 ],
 "metadata": {
  "kernelspec": {
   "display_name": "Python 3",
   "language": "python",
   "name": "python3"
  },
  "language_info": {
   "codemirror_mode": {
    "name": "ipython",
    "version": 3
   },
   "file_extension": ".py",
   "mimetype": "text/x-python",
   "name": "python",
   "nbconvert_exporter": "python",
   "pygments_lexer": "ipython3",
   "version": "3.8.5"
  }
 },
 "nbformat": 4,
 "nbformat_minor": 4
}
